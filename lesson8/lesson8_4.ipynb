{
 "cells": [
  {
   "cell_type": "code",
   "execution_count": 9,
   "metadata": {},
   "outputs": [
    {
     "data": {
      "text/plain": [
       "['萬里區',\n",
       " '三重區',\n",
       " '平溪區',\n",
       " '瑞芳區',\n",
       " '泰山區',\n",
       " '深坑區',\n",
       " '石門區',\n",
       " '永和區',\n",
       " '八里區',\n",
       " '三芝區',\n",
       " '坪林區',\n",
       " '中和區',\n",
       " '林口區',\n",
       " '土城區',\n",
       " '淡水區',\n",
       " '五股區',\n",
       " '汐止區',\n",
       " '石碇區',\n",
       " '板橋區',\n",
       " '金山區',\n",
       " '新店區',\n",
       " '三峽區']"
      ]
     },
     "execution_count": 9,
     "metadata": {},
     "output_type": "execute_result"
    }
   ],
   "source": [
    "from tools import get_youbikes\n",
    "import pandas as pd \n",
    "youbike_data:list[dict] = get_youbikes()\n",
    "def map_func(value:dict):\n",
    "    return value['sarea']\n",
    "list(set(map(map_func,youbike_data)))\n",
    "# df = pd.DataFrame(youbike_data)\n",
    "# df"
   ]
  },
  {
   "cell_type": "code",
   "execution_count": 8,
   "metadata": {},
   "outputs": [
    {
     "data": {
      "text/plain": [
       "['萬里區',\n",
       " '三重區',\n",
       " '平溪區',\n",
       " '瑞芳區',\n",
       " '泰山區',\n",
       " '深坑區',\n",
       " '石門區',\n",
       " '永和區',\n",
       " '八里區',\n",
       " '三芝區',\n",
       " '坪林區',\n",
       " '中和區',\n",
       " '林口區',\n",
       " '土城區',\n",
       " '淡水區',\n",
       " '五股區',\n",
       " '汐止區',\n",
       " '石碇區',\n",
       " '板橋區',\n",
       " '金山區',\n",
       " '新店區',\n",
       " '三峽區']"
      ]
     },
     "execution_count": 8,
     "metadata": {},
     "output_type": "execute_result"
    }
   ],
   "source": [
    "from tools import get_youbikes\n",
    "import pandas as pd \n",
    "youbike_data:list[dict] = get_youbikes()\n",
    "def map_func(value:dict):\n",
    "    return value['sarea']\n",
    "\n",
    "\n",
    "area = list(set(map(lambda value:value['sarea'],youbike_data)))\n",
    "area"
   ]
  }
 ],
 "metadata": {
  "kernelspec": {
   "display_name": "base",
   "language": "python",
   "name": "python3"
  },
  "language_info": {
   "codemirror_mode": {
    "name": "ipython",
    "version": 3
   },
   "file_extension": ".py",
   "mimetype": "text/x-python",
   "name": "python",
   "nbconvert_exporter": "python",
   "pygments_lexer": "ipython3",
   "version": "3.12.2"
  }
 },
 "nbformat": 4,
 "nbformat_minor": 2
}
