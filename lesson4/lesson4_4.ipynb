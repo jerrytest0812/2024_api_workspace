{
 "cells": [
  {
   "cell_type": "code",
   "execution_count": 7,
   "metadata": {},
   "outputs": [],
   "source": [
    "class Person():\n",
    "    def __init__(self,name:str,age:int):\n",
    "        self.name = name\n",
    "        self.age = age\n",
    "    \n",
    "    def echo(self):\n",
    "        print(f'name:{self.name}')\n",
    "        print(f'age:{self.age}')"
   ]
  },
  {
   "cell_type": "code",
   "execution_count": 17,
   "metadata": {},
   "outputs": [],
   "source": [
    "class Student(Person):\n",
    "    def __init__(self,name:str, age:int, score:int):\n",
    "        super().__init__(name=name, age=age)\n",
    "        self.__score = score\n",
    "\n",
    "    @property\n",
    "    def score(self)->int:\n",
    "        return self.__score\n",
    "    \n",
    "    def echo(self):\n",
    "        super().echo()\n",
    "        print(f'score:{self.score}')"
   ]
  },
  {
   "cell_type": "code",
   "execution_count": null,
   "metadata": {},
   "outputs": [
    {
     "name": "stdout",
     "output_type": "stream",
     "text": [
      "name:wang\n",
      "age:18\n",
      "score:245\n",
      "name:wang\n",
      "age:18\n",
      "score:300\n"
     ]
    }
   ],
   "source": [
    "s1 = Student('wang',age=18, score=245)\n",
    "# s1.score = 300 不能這樣修改傳入值\n",
    "s1.echo()\n",
    "\n",
    "# 做一個新的s1但是score不一樣\n",
    "s1 = Student('wang',age=18, score=300)\n",
    "s1.echo()"
   ]
  }
 ],
 "metadata": {
  "kernelspec": {
   "display_name": "base",
   "language": "python",
   "name": "python3"
  },
  "language_info": {
   "codemirror_mode": {
    "name": "ipython",
    "version": 3
   },
   "file_extension": ".py",
   "mimetype": "text/x-python",
   "name": "python",
   "nbconvert_exporter": "python",
   "pygments_lexer": "ipython3",
   "version": "3.12.2"
  }
 },
 "nbformat": 4,
 "nbformat_minor": 2
}
