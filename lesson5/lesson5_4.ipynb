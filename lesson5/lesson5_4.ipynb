{
 "cells": [
  {
   "cell_type": "code",
   "execution_count": 3,
   "metadata": {},
   "outputs": [
    {
     "data": {
      "text/plain": [
       "[{'name': 'Cherry', 'price': '30'},\n",
       " {'name': 'Apple', 'price': '20'},\n",
       " {'name': 'Banana', 'price': '10'}]"
      ]
     },
     "execution_count": 3,
     "metadata": {},
     "output_type": "execute_result"
    }
   ],
   "source": [
    "items:list[dict]= [\n",
    "    {\"name\":\"Apple\", \"price\":\"20\"},\n",
    "    {\"name\":\"Banana\", \"price\":\"10\"},\n",
    "    {\"name\":\"Cherry\", \"price\":\"30\"}\n",
    "]\n",
    "\n",
    "sorted(items, key=lambda x:x['price'], reverse=True)"
   ]
  },
  {
   "cell_type": "code",
   "execution_count": 4,
   "metadata": {},
   "outputs": [
    {
     "data": {
      "text/plain": [
       "('robert', 15, 180, 75)"
      ]
     },
     "execution_count": 4,
     "metadata": {},
     "output_type": "execute_result"
    }
   ],
   "source": [
    "name, age, heigh, weight = 'robert', 15, 180, 75\n",
    "name, age, heigh, weight"
   ]
  },
  {
   "cell_type": "code",
   "execution_count": 5,
   "metadata": {},
   "outputs": [
    {
     "name": "stdout",
     "output_type": "stream",
     "text": [
      "name\n",
      "price\n"
     ]
    }
   ],
   "source": [
    "for key in {\"name\":\"Apple\",\"price\":20}:\n",
    "    print(key)"
   ]
  },
  {
   "cell_type": "code",
   "execution_count": 6,
   "metadata": {},
   "outputs": [
    {
     "name": "stdout",
     "output_type": "stream",
     "text": [
      "name\n",
      "price\n"
     ]
    }
   ],
   "source": [
    "for key in {\"name\":\"Apple\",\"price\":20}.keys():\n",
    "    print(key)"
   ]
  },
  {
   "cell_type": "code",
   "execution_count": 7,
   "metadata": {},
   "outputs": [
    {
     "name": "stdout",
     "output_type": "stream",
     "text": [
      "Apple\n",
      "20\n"
     ]
    }
   ],
   "source": [
    "for value in {\"name\":\"Apple\",\"price\":20}.values():\n",
    "    print(value)"
   ]
  },
  {
   "cell_type": "code",
   "execution_count": 8,
   "metadata": {},
   "outputs": [
    {
     "name": "stdout",
     "output_type": "stream",
     "text": [
      "('name', 'Apple')\n",
      "('price', 20)\n"
     ]
    }
   ],
   "source": [
    "for item in {\"name\":\"Apple\",\"price\":20}.items():\n",
    "    print(item)"
   ]
  },
  {
   "cell_type": "code",
   "execution_count": 9,
   "metadata": {},
   "outputs": [
    {
     "name": "stdout",
     "output_type": "stream",
     "text": [
      "name\n",
      "Apple\n",
      "price\n",
      "20\n"
     ]
    }
   ],
   "source": [
    "for key, value in {\"name\":\"Apple\",\"price\":20}.items():\n",
    "    print(key)\n",
    "    print(value)"
   ]
  }
 ],
 "metadata": {
  "kernelspec": {
   "display_name": "base",
   "language": "python",
   "name": "python3"
  },
  "language_info": {
   "codemirror_mode": {
    "name": "ipython",
    "version": 3
   },
   "file_extension": ".py",
   "mimetype": "text/x-python",
   "name": "python",
   "nbconvert_exporter": "python",
   "pygments_lexer": "ipython3",
   "version": "3.12.2"
  }
 },
 "nbformat": 4,
 "nbformat_minor": 2
}
