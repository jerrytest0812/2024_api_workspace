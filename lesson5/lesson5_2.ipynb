{
 "cells": [
  {
   "cell_type": "code",
   "execution_count": 1,
   "metadata": {},
   "outputs": [
    {
     "name": "stdout",
     "output_type": "stream",
     "text": [
      "[1, 10, 100, 127, 91, 85, 35]\n"
     ]
    }
   ],
   "source": [
    "numbers = [1,10,100, 127, 91, 85]\n",
    "numbers.append(35)\n",
    "print(numbers)"
   ]
  },
  {
   "cell_type": "code",
   "execution_count": 3,
   "metadata": {},
   "outputs": [
    {
     "name": "stdout",
     "output_type": "stream",
     "text": [
      "[1, 10, 35, 85, 91, 100, 127]\n",
      "[127, 100, 91, 85, 35, 10, 1]\n"
     ]
    }
   ],
   "source": [
    "numbers.sort()\n",
    "print(numbers)\n",
    "numbers.sort(reverse=True)\n",
    "print(numbers)"
   ]
  },
  {
   "cell_type": "code",
   "execution_count": 6,
   "metadata": {},
   "outputs": [
    {
     "name": "stdout",
     "output_type": "stream",
     "text": [
      "[1, 10, 35, 85, 91, 100, 127]\n",
      "[127, 100, 91, 85, 35, 10, 1]\n"
     ]
    }
   ],
   "source": [
    "print(sorted(numbers))\n",
    "print(numbers)"
   ]
  }
 ],
 "metadata": {
  "kernelspec": {
   "display_name": "base",
   "language": "python",
   "name": "python3"
  },
  "language_info": {
   "codemirror_mode": {
    "name": "ipython",
    "version": 3
   },
   "file_extension": ".py",
   "mimetype": "text/x-python",
   "name": "python",
   "nbconvert_exporter": "python",
   "pygments_lexer": "ipython3",
   "version": "3.12.2"
  }
 },
 "nbformat": 4,
 "nbformat_minor": 2
}
