{
 "cells": [
  {
   "cell_type": "code",
   "execution_count": 2,
   "metadata": {},
   "outputs": [
    {
     "name": "stdout",
     "output_type": "stream",
     "text": [
      "答案79\n",
      "=======猜數字=======\n",
      "輸入:50\n",
      "再大一點\n",
      "您猜了1次\n",
      "輸入:79\n",
      "恭喜中獎!!\n",
      "答案39\n",
      "=======猜數字=======\n",
      "輸入:90\n",
      "再小一點\n",
      "您猜了1次\n",
      "輸入:39\n",
      "恭喜中獎!!\n",
      "結束\n"
     ]
    }
   ],
   "source": [
    "import random\n",
    "while True:\n",
    "    min = 1\n",
    "    max = 100\n",
    "    target = random.randint(min,max)\n",
    "    print(f'答案{target}')\n",
    "    count = 0\n",
    "    print('=======猜數字=======')\n",
    "    while True:\n",
    "        count += 1\n",
    "        num = int(input(f'請輸{min}-{max}的整數:'))\n",
    "        print(f'輸入:{num}')\n",
    "        if num <= max and num >= min:\n",
    "            if num == target:\n",
    "                print('恭喜中獎!!')\n",
    "                break\n",
    "            elif num > target:\n",
    "                print('再小一點')\n",
    "                max = num-1\n",
    "            elif num < target:\n",
    "                print('再大一點')\n",
    "                min = num+1\n",
    "            \n",
    "            print(f'您猜了{count}次')\n",
    "        else:\n",
    "            print('輸入範圍有誤')\n",
    "            continue\n",
    "    answering = input('是否繼續?(y,n)')\n",
    "    if answering == 'n':\n",
    "        break\n",
    "print('結束')"
   ]
  },
  {
   "cell_type": "code",
   "execution_count": 3,
   "metadata": {},
   "outputs": [
    {
     "name": "stdout",
     "output_type": "stream",
     "text": [
      "答案92\n",
      "=======猜數字=======\n",
      "輸入:50\n",
      "再大一點\n",
      "您猜了1次\n",
      "輸入:12\n",
      "輸入範圍有誤\n",
      "輸入:60\n",
      "再大一點\n",
      "您猜了3次\n",
      "輸入:80\n",
      "再大一點\n",
      "您猜了4次\n",
      "輸入:90\n",
      "再大一點\n",
      "您猜了5次\n",
      "輸入:92\n",
      "恭喜中獎!!\n",
      "答案90\n",
      "=======猜數字=======\n",
      "輸入:80\n",
      "再大一點\n",
      "您猜了1次\n",
      "輸入:70\n",
      "輸入範圍有誤\n",
      "輸入:90\n",
      "恭喜中獎!!\n",
      "結束\n"
     ]
    }
   ],
   "source": [
    "import random\n",
    "\n",
    "def play_game():\n",
    "    min = 1\n",
    "    max = 100\n",
    "    target = random.randint(min,max)\n",
    "    print(f'答案{target}')\n",
    "    count = 0\n",
    "    print('=======猜數字=======')\n",
    "    while True:\n",
    "        count += 1\n",
    "        num = int(input(f'請輸{min}-{max}的整數:'))\n",
    "        print(f'輸入:{num}')\n",
    "        if num <= max and num >= min:\n",
    "            if num == target:\n",
    "                print('恭喜中獎!!')\n",
    "                break\n",
    "            elif num > target:\n",
    "                print('再小一點')\n",
    "                max = num-1\n",
    "            elif num < target:\n",
    "                print('再大一點')\n",
    "                min = num+1\n",
    "            \n",
    "            print(f'您猜了{count}次')\n",
    "        else:\n",
    "            print('輸入範圍有誤')\n",
    "            continue\n",
    "while True:\n",
    "    play_game()\n",
    "    answering = input('是否繼續?(y,n)')\n",
    "    if answering == 'n':\n",
    "        break\n",
    "print('結束')"
   ]
  },
  {
   "cell_type": "code",
   "execution_count": 4,
   "metadata": {},
   "outputs": [
    {
     "data": {
      "text/plain": [
       "5.0"
      ]
     },
     "execution_count": 4,
     "metadata": {},
     "output_type": "execute_result"
    }
   ],
   "source": [
    "import math\n",
    "def theorem(side:float, another_side:float) -> float:\n",
    "    return math.sqrt(side**2 + another_side**2)\n",
    "\n",
    "theorem(3,4)"
   ]
  }
 ],
 "metadata": {
  "kernelspec": {
   "display_name": "base",
   "language": "python",
   "name": "python3"
  },
  "language_info": {
   "codemirror_mode": {
    "name": "ipython",
    "version": 3
   },
   "file_extension": ".py",
   "mimetype": "text/x-python",
   "name": "python",
   "nbconvert_exporter": "python",
   "pygments_lexer": "ipython3",
   "version": "3.12.3"
  }
 },
 "nbformat": 4,
 "nbformat_minor": 2
}
