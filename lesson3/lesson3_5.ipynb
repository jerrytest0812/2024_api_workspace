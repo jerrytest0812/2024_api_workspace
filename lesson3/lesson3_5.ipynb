{
 "cells": [
  {
   "cell_type": "code",
   "execution_count": 1,
   "metadata": {},
   "outputs": [
    {
     "data": {
      "text/plain": [
       "19"
      ]
     },
     "execution_count": 1,
     "metadata": {},
     "output_type": "execute_result"
    }
   ],
   "source": [
    "from typing import Callable\n",
    "\n",
    "MyFunction = Callable[[int,int],int]\n",
    "\n",
    "def add(a:int, b:int) -> int:\n",
    "    return a+b\n",
    "\n",
    "myfun:MyFunction = add\n",
    "\n",
    "myfun(9,10)\n"
   ]
  },
  {
   "cell_type": "code",
   "execution_count": 5,
   "metadata": {},
   "outputs": [
    {
     "name": "stdout",
     "output_type": "stream",
     "text": [
      "function start\n",
      "AAA000AAAAA\n",
      "function finish\n"
     ]
    }
   ],
   "source": [
    "def decorator_function(original_function):   \n",
    "    def wrapper_function():\n",
    "        print(\"function start\")\n",
    "        original_function()\n",
    "        print('function finish')\n",
    "    return wrapper_function\n",
    "\n",
    "def say_hello():\n",
    "    print('AAA000AAAAA')\n",
    "\n",
    "newFunction= decorator_function(say_hello)\n",
    "newFunction()"
   ]
  },
  {
   "cell_type": "code",
   "execution_count": null,
   "metadata": {},
   "outputs": [
    {
     "name": "stdout",
     "output_type": "stream",
     "text": [
      "function start\n",
      "自己亂寫\n",
      "被插入修改在decorator_function\n",
      "function finish\n"
     ]
    }
   ],
   "source": [
    "@ decorator_function\n",
    "def abc():\n",
    "    print('自己亂寫')\n",
    "    print('亂寫的東西被插入修改在decorator_function')\n",
    "\n",
    "abc()"
   ]
  }
 ],
 "metadata": {
  "kernelspec": {
   "display_name": "base",
   "language": "python",
   "name": "python3"
  },
  "language_info": {
   "codemirror_mode": {
    "name": "ipython",
    "version": 3
   },
   "file_extension": ".py",
   "mimetype": "text/x-python",
   "name": "python",
   "nbconvert_exporter": "python",
   "pygments_lexer": "ipython3",
   "version": "3.12.3"
  }
 },
 "nbformat": 4,
 "nbformat_minor": 2
}
