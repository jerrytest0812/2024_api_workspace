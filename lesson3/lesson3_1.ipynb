{
 "cells": [
  {
   "cell_type": "code",
   "execution_count": 2,
   "metadata": {},
   "outputs": [
    {
     "name": "stdout",
     "output_type": "stream",
     "text": [
      "5050\n"
     ]
    }
   ],
   "source": [
    "n=0\n",
    "for i in range (1,101):\n",
    "    n = n+i\n",
    "print(n)\n"
   ]
  },
  {
   "cell_type": "code",
   "execution_count": 4,
   "metadata": {},
   "outputs": [
    {
     "name": "stdout",
     "output_type": "stream",
     "text": [
      "1\n",
      "3\n"
     ]
    }
   ],
   "source": [
    "i=1\n",
    "while i <=10:\n",
    "    print(i)\n",
    "    i += int(input('輸入整數'))"
   ]
  },
  {
   "cell_type": "code",
   "execution_count": null,
   "metadata": {},
   "outputs": [],
   "source": [
    "while(True):\n",
    "    try:\n",
    "        value = input(int('請輸入數值:'))\n",
    "        print(value)\n",
    "        again = input('是否繼續?(y/n)')\n",
    "        if again == \"n\":\n",
    "            break\n",
    "    except Exception:\n",
    "        print('輸入格式錯誤, 請重新輸入')\n",
    "\n",
    "for i in range(1,value+1):\n",
    "    print(i)\n",
    "\n"
   ]
  },
  {
   "cell_type": "code",
   "execution_count": 8,
   "metadata": {},
   "outputs": [
    {
     "name": "stdout",
     "output_type": "stream",
     "text": [
      "=======猜數字=======\n",
      "您猜了0次\n",
      "輸入:50\n",
      "再小一點\n",
      "您猜了1次\n",
      "輸入:33\n",
      "再小一點\n",
      "您猜了2次\n",
      "輸入:60\n",
      "輸入範圍有誤\n",
      "您猜了3次\n",
      "輸入:20\n",
      "再大一點\n",
      "您猜了4次\n",
      "輸入:30\n",
      "再小一點\n",
      "您猜了5次\n",
      "輸入:25\n",
      "再大一點\n",
      "您猜了6次\n",
      "輸入:27\n",
      "再大一點\n",
      "您猜了7次\n",
      "輸入:28\n",
      "恭喜中獎!!\n",
      "結束\n"
     ]
    }
   ],
   "source": [
    "import random\n",
    "\n",
    "min = 1\n",
    "max = 100\n",
    "target = random.randint(min,max)\n",
    "count = 0\n",
    "print('=======猜數字=======')\n",
    "while True:\n",
    "    print(f'您猜了{count}次')\n",
    "    count += 1\n",
    "    num = int(input(f'請輸{min}-{max}的整數:'))\n",
    "    print(f'輸入:{num}')\n",
    "    if num <= max and num >= min:\n",
    "        if num == target:\n",
    "            print('恭喜中獎!!')\n",
    "            break\n",
    "        elif num > target:\n",
    "            print('再小一點')\n",
    "            max = num-1\n",
    "        elif num < target:\n",
    "            print('再大一點')\n",
    "            min = num+1\n",
    "    else:\n",
    "        print('輸入範圍有誤')\n",
    "        continue\n",
    "print('結束')"
   ]
  },
  {
   "cell_type": "code",
   "execution_count": 9,
   "metadata": {},
   "outputs": [
    {
     "name": "stdout",
     "output_type": "stream",
     "text": [
      "()\n",
      "(1, 2, 'AAA', '45QQQ')\n"
     ]
    }
   ],
   "source": [
    "def print_args(*args):\n",
    "    print(args)\n",
    "\n",
    "print_args()\n",
    "print_args(1,2,'AAA','45QQQ')"
   ]
  },
  {
   "cell_type": "code",
   "execution_count": 11,
   "metadata": {},
   "outputs": [
    {
     "name": "stdout",
     "output_type": "stream",
     "text": [
      "{'one': 1, 'two': 2, 'three': '3'}\n",
      "============\n",
      "{}\n"
     ]
    }
   ],
   "source": [
    "def print_kwargs(**kwargs):\n",
    "    print(kwargs)\n",
    "\n",
    "print_kwargs(one=1, two=2, three='3')\n",
    "print('============')\n",
    "print_kwargs()"
   ]
  }
 ],
 "metadata": {
  "kernelspec": {
   "display_name": "base",
   "language": "python",
   "name": "python3"
  },
  "language_info": {
   "codemirror_mode": {
    "name": "ipython",
    "version": 3
   },
   "file_extension": ".py",
   "mimetype": "text/x-python",
   "name": "python",
   "nbconvert_exporter": "python",
   "pygments_lexer": "ipython3",
   "version": "3.12.3"
  }
 },
 "nbformat": 4,
 "nbformat_minor": 2
}
