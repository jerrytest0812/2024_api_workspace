{
 "cells": [
  {
   "cell_type": "code",
   "execution_count": null,
   "metadata": {},
   "outputs": [],
   "source": [
    "try:\n",
    "    scores = int(input('輸入學生分數(最高300分):'))\n",
    "    print(f'學生分數:{scores}')\n",
    "except Exception:\n",
    "    # Exeption 包含所有錯誤, 寫在最後的except\n",
    "    print('發生錯誤')\n",
    "else:\n",
    "    is_add = str(input('是否符合加分條件?(y,n)'))\n",
    "    print(f'是否加分:{is_add}')\n",
    "    if is_add == 'y' :\n",
    "        final_score = scores * 1.05\n",
    "        if final_score > 300:\n",
    "            final_score = 300\n",
    "    else:\n",
    "        final_score = scores\n",
    "    print(f'最後總分:{final_score}')"
   ]
  }
 ],
 "metadata": {
  "language_info": {
   "name": "python"
  }
 },
 "nbformat": 4,
 "nbformat_minor": 2
}
