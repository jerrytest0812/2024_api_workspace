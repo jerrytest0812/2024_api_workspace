{
 "cells": [
  {
   "cell_type": "code",
   "execution_count": null,
   "metadata": {},
   "outputs": [],
   "source": [
    "try:\n",
    "    scores = int(input('輸入學生分數(最高300分):'))\n",
    "    print(f'學生分數:{scores}')\n",
    "except Exception:\n",
    "    # Exeption 包含所有錯誤, 寫在最後的except\n",
    "    print('發生錯誤')\n",
    "else:\n",
    "    is_add = str(input('是否符合加分條件?(y,n)'))\n",
    "    print(f'是否加分:{is_add}')\n",
    "    if is_add == 'y' :\n",
    "        final_score = scores * 1.05\n",
    "        if final_score > 300:\n",
    "            final_score = 300\n",
    "    else:\n",
    "        final_score = scores\n",
    "    print(f'最後總分:{final_score}')"
   ]
  },
  {
   "cell_type": "code",
   "execution_count": null,
   "metadata": {},
   "outputs": [],
   "source": [
    "scores = int(input('輸入學生分數(最高300分):'))\n",
    "print(f'學生分數:{scores}')\n",
    "if scores >= 90:\n",
    "    print('特優')\n",
    "elif scores >= 60:\n",
    "    print('及格')\n",
    "else:\n",
    "    print('不及格')"
   ]
  },
  {
   "cell_type": "code",
   "execution_count": 2,
   "metadata": {},
   "outputs": [
    {
     "name": "stdout",
     "output_type": "stream",
     "text": [
      "分數:70\n",
      "C\n"
     ]
    }
   ],
   "source": [
    "scores = int(input('輸入分數:'))\n",
    "print(f'分數:{scores}')\n",
    "\n",
    "if scores >= 90:\n",
    "    print('A')\n",
    "elif scores >= 80:\n",
    "    print('B')\n",
    "elif scores >= 70:\n",
    "    print('C')\n",
    "elif scores >= 60:\n",
    "    print('D')\n",
    "else:\n",
    "    print('fail')\n"
   ]
  },
  {
   "cell_type": "code",
   "execution_count": 4,
   "metadata": {},
   "outputs": [
    {
     "name": "stdout",
     "output_type": "stream",
     "text": [
      "國文分數:99\n",
      "數學分數100\n",
      "獎金:500\n"
     ]
    }
   ],
   "source": [
    "# 國文 100, 同時數學100, 獎金1000\n",
    "# 國文 100, 或者數學100, 獎金500\n",
    "# 否則獎金 0\n",
    "\n",
    "chinese_score = int(input(\"國文分數:\"))\n",
    "math_score = int(input('數學分數'))\n",
    "print(f'國文分數:{chinese_score}')\n",
    "print(f'數學分數{math_score}')\n",
    "if chinese_score == 100 and math_score == 100 :\n",
    "    bouns = 1000\n",
    "elif chinese_score == 100 or math_score == 100:\n",
    "    bouns = 500\n",
    "else:\n",
    "    bouns = 0\n",
    "\n",
    "print(f'獎金:{bouns}')"
   ]
  }
 ],
 "metadata": {
  "kernelspec": {
   "display_name": "Python 3",
   "language": "python",
   "name": "python3"
  },
  "language_info": {
   "codemirror_mode": {
    "name": "ipython",
    "version": 3
   },
   "file_extension": ".py",
   "mimetype": "text/x-python",
   "name": "python",
   "nbconvert_exporter": "python",
   "pygments_lexer": "ipython3",
   "version": "3.12.3"
  }
 },
 "nbformat": 4,
 "nbformat_minor": 2
}
