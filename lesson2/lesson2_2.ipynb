{
 "cells": [
  {
   "cell_type": "markdown",
   "metadata": {},
   "source": [
    "1. 學生總分 300 分\n",
    "2. 有些學生可以加分5%\n",
    "3. 加分超過300, 以300計"
   ]
  },
  {
   "cell_type": "code",
   "execution_count": null,
   "metadata": {},
   "outputs": [
    {
     "name": "stdout",
     "output_type": "stream",
     "text": [
      "學生分數:295\n",
      "是否加分:y\n",
      "最後總分:300\n"
     ]
    }
   ],
   "source": [
    "scores = int(input('輸入學生分數(最高300分):'))\n",
    "print(f'學生分數:{scores}')\n",
    "is_add = str(input('是否符合加分條件?(y,n)'))\n",
    "print(f'是否加分:{is_add}')\n",
    "if is_add == 'y' :\n",
    "    final_score = scores * 1.05\n",
    "    if final_score > 300:\n",
    "        final_score = 300\n",
    "else:\n",
    "    final_score = scores\n",
    "\n",
    "print(f'最後總分:{final_score}')"
   ]
  },
  {
   "cell_type": "code",
   "execution_count": null,
   "metadata": {},
   "outputs": [],
   "source": [
    "try:\n",
    "    scores = int(input('輸入學生分數(最高300分):'))\n",
    "except (ValueError):\n",
    "    # 不正確, 因為輸入錯誤仍會繼續執行然後出錯\n",
    "    print('格式錯誤,請輸入整數')\n",
    "\n",
    "print(f'學生分數:{scores}')\n",
    "is_add = str(input('是否符合加分條件?(y,n)'))\n",
    "print(f'是否加分:{is_add}')\n",
    "if is_add == 'y' :\n",
    "    final_score = scores * 1.05\n",
    "    if final_score > 300:\n",
    "        final_score = 300\n",
    "else:\n",
    "    final_score = scores\n",
    "\n",
    "print(f'最後總分:{final_score}')"
   ]
  },
  {
   "cell_type": "code",
   "execution_count": null,
   "metadata": {},
   "outputs": [],
   "source": [
    "try:\n",
    "    scores = int(input('輸入學生分數(最高300分):'))\n",
    "    print(f'學生分數:{scores}')\n",
    "    is_add = str(input('是否符合加分條件?(y,n)'))\n",
    "    print(f'是否加分:{is_add}')\n",
    "    if is_add == 'y' :\n",
    "        final_score = scores * 1.05\n",
    "        if final_score > 300:\n",
    "            final_score = 300\n",
    "    else:\n",
    "        final_score = scores\n",
    "    print(f'最後總分:{final_score}')\n",
    "\n",
    "except ValueError:\n",
    "    print('格式錯誤,請輸入整數')\n",
    "except NameError:\n",
    "    print('NameError')\n",
    "except Exception:\n",
    "    # Exeption 包含所有錯誤, 寫在最後的except\n",
    "    print('發生錯誤')"
   ]
  },
  {
   "cell_type": "code",
   "execution_count": 4,
   "metadata": {},
   "outputs": [
    {
     "name": "stdout",
     "output_type": "stream",
     "text": [
      "格式錯誤,請輸入整數\n"
     ]
    }
   ],
   "source": [
    "try:\n",
    "    scores = int(input('輸入學生分數(最高300分):'))\n",
    "    print(f'學生分數:{scores}')\n",
    "except ValueError:\n",
    "    print('格式錯誤,請輸入整數')\n",
    "except NameError:\n",
    "    print('NameError')\n",
    "except Exception:\n",
    "    # Exeption 包含所有錯誤, 寫在最後的except\n",
    "    print('發生錯誤')\n",
    "else:\n",
    "    is_add = str(input('是否符合加分條件?(y,n)'))\n",
    "    print(f'是否加分:{is_add}')\n",
    "    if is_add == 'y' :\n",
    "        final_score = scores * 1.05\n",
    "        if final_score > 300:\n",
    "            final_score = 300\n",
    "    else:\n",
    "        final_score = scores\n",
    "    print(f'最後總分:{final_score}')"
   ]
  }
 ],
 "metadata": {
  "kernelspec": {
   "display_name": "Python 3",
   "language": "python",
   "name": "python3"
  },
  "language_info": {
   "codemirror_mode": {
    "name": "ipython",
    "version": 3
   },
   "file_extension": ".py",
   "mimetype": "text/x-python",
   "name": "python",
   "nbconvert_exporter": "python",
   "pygments_lexer": "ipython3",
   "version": "3.12.3"
  }
 },
 "nbformat": 4,
 "nbformat_minor": 2
}
